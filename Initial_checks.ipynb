{
 "cells": [
  {
   "cell_type": "code",
   "execution_count": null,
   "metadata": {},
   "outputs": [],
   "source": [
    "import random as rn\n",
    "import numpy as np\n",
    "import pandas as pd\n",
    "import seaborn as sns\n",
    "import time as t\n",
    "import matplotlib.pyplot as plt\n",
    "import scipy.stats as ss\n",
    "\n",
    "from cfair.backends import NumpyBackend\n",
    "from cfair.metrics.kernel.hgr import DoubleKernelHGR\n",
    "from experiments import warriors, animals, cramers_v, sample, my_kernel_one_hot, my_kernel_one_hot_with_delta, polynomial_kernel, experiment, experiment_norm, experiment_delta, experiment_general, experiment_hot_poly\n",
    "from ucimlrepo import fetch_ucirepo \n",
    "\n",
    "from scipy.linalg import qr # is the last column always removed?"
   ]
  },
  {
   "cell_type": "code",
   "execution_count": null,
   "metadata": {},
   "outputs": [],
   "source": [
    "def vanilla_cramers_v(confusion_matrix):\n",
    "\n",
    "    chi2 = ss.chi2_contingency(confusion_matrix)[0]\n",
    "    n = confusion_matrix.sum()\n",
    "    phi2 = chi2 / n\n",
    "    r, k = confusion_matrix.shape\n",
    "\n",
    "    return np.sqrt(phi2 / min((k - 1), (r - 1)))"
   ]
  },
  {
   "cell_type": "code",
   "execution_count": null,
   "metadata": {},
   "outputs": [
    {
     "data": {
      "text/plain": [
       "array(['Blood Angel', 'Dark Angel', 'Imperial Fist', 'Iron Hand',\n",
       "       'Raven Guard', 'Salamander', 'Space Wolf', 'Ultramarine',\n",
       "       'White Scar'], dtype='<U13')"
      ]
     },
     "metadata": {},
     "output_type": "display_data"
    }
   ],
   "source": [
    "np.unique(warriors)"
   ]
  },
  {
   "cell_type": "code",
   "execution_count": null,
   "metadata": {},
   "outputs": [
    {
     "data": {
      "text/plain": [
       "array(['cat', 'dog', 'horse', 'wolf'], dtype='<U5')"
      ]
     },
     "metadata": {},
     "output_type": "display_data"
    }
   ],
   "source": [
    "np.unique(animals)"
   ]
  },
  {
   "cell_type": "code",
   "execution_count": null,
   "metadata": {},
   "outputs": [],
   "source": [
    "backend = NumpyBackend()"
   ]
  },
  {
   "cell_type": "markdown",
   "metadata": {},
   "source": [
    "# Cramer's V"
   ]
  },
  {
   "cell_type": "markdown",
   "metadata": {},
   "source": [
    "This is the bias-corrected version"
   ]
  },
  {
   "cell_type": "code",
   "execution_count": null,
   "metadata": {},
   "outputs": [],
   "source": [
    "def cramers_v(confusion_matrix):\n",
    "    \"\"\" calculate Cramers V statistic for categorial-categorial association.\n",
    "        uses correction from Bergsma and Wicher,\n",
    "        Journal of the Korean Statistical Society 42 (2013): 323-328\n",
    "    \"\"\"\n",
    "    chi2 = ss.chi2_contingency(confusion_matrix)[0]\n",
    "    n = confusion_matrix.sum()\n",
    "    phi2 = chi2 / n\n",
    "    r, k = confusion_matrix.shape\n",
    "    phi2corr = max(0, phi2 - ((k - 1) * (r - 1)) / (n - 1))\n",
    "    rcorr = r - ((r - 1) ** 2) / (n - 1)\n",
    "    kcorr = k - ((k - 1) ** 2) / (n - 1)\n",
    "    return np.sqrt(phi2corr / min((kcorr - 1), (rcorr - 1)))"
   ]
  },
  {
   "cell_type": "markdown",
   "metadata": {},
   "source": [
    "# OHE kernel function"
   ]
  },
  {
   "cell_type": "code",
   "execution_count": null,
   "metadata": {},
   "outputs": [],
   "source": [
    "def one_hot_encode(x):\n",
    "        unique_vals = np.unique(x)\n",
    "        return np.array([[1 if val == xi else 0 for val in unique_vals] for xi in x]).transpose()"
   ]
  },
  {
   "cell_type": "markdown",
   "metadata": {},
   "source": [
    "# Sample function"
   ]
  },
  {
   "cell_type": "code",
   "execution_count": null,
   "metadata": {},
   "outputs": [],
   "source": [
    "def sample(a_list):\n",
    "    return rn.choice(a_list)"
   ]
  },
  {
   "cell_type": "code",
   "execution_count": null,
   "metadata": {},
   "outputs": [],
   "source": [
    "warriors = [\"Ultramarine\", \"Salamander\", \"White Scar\", \"Space Wolf\", \"Raven Guard\", \"Iron Hand\", \"Imperial Fist\", \"Blood Angel\", \"Dark Angel\"]\n",
    "animals = [\"cat\", \"dog\", \"wolf\", \"horse\"]"
   ]
  },
  {
   "cell_type": "markdown",
   "metadata": {},
   "source": [
    "# One hot Kernel"
   ]
  },
  {
   "cell_type": "code",
   "execution_count": null,
   "metadata": {},
   "outputs": [],
   "source": [
    "my_kernel_one_hot = DoubleKernelHGR(\n",
    "    backend=backend,          \n",
    "    kernel_a=one_hot_encode, \n",
    "    kernel_b=one_hot_encode, \n",
    ")"
   ]
  },
  {
   "cell_type": "markdown",
   "metadata": {},
   "source": [
    "# One hot Kernel with delta"
   ]
  },
  {
   "cell_type": "code",
   "execution_count": null,
   "metadata": {},
   "outputs": [],
   "source": [
    "my_kernel_one_hot_with_delta = DoubleKernelHGR(\n",
    "    backend=backend,          \n",
    "    kernel_a=one_hot_encode, \n",
    "    kernel_b=one_hot_encode, \n",
    "    delta_independent=0.2\n",
    ")"
   ]
  },
  {
   "cell_type": "markdown",
   "metadata": {},
   "source": [
    "# Polinomial Kernel"
   ]
  },
  {
   "cell_type": "code",
   "execution_count": null,
   "metadata": {},
   "outputs": [],
   "source": [
    "polynomial_kernel = DoubleKernelHGR(\n",
    "    backend=backend,          \n",
    "    kernel_a=9, \n",
    "    kernel_b=4, \n",
    "    delta_independent=0.2\n",
    ")"
   ]
  },
  {
   "cell_type": "markdown",
   "metadata": {},
   "source": [
    "# Experiments utilities"
   ]
  },
  {
   "cell_type": "markdown",
   "metadata": {},
   "source": [
    "## General"
   ]
  },
  {
   "cell_type": "code",
   "execution_count": null,
   "metadata": {},
   "outputs": [],
   "source": [
    "def compute_corr_and_exec_time(feat1, feat2, kernel = \"cramer\", init = None, norm = True):\n",
    "\n",
    "    if kernel == \"cramer\":\n",
    "        start_time = t.time()\n",
    "        confusion_matrix = pd.crosstab(feat1, feat2)\n",
    "        result = cramers_v(confusion_matrix.values)\n",
    "        end_time = t.time()\n",
    "        exec_time = end_time - start_time\n",
    "\n",
    "    else:\n",
    "        l1, l2 = len(np.unique(feat1)), len(np.unique(feat2))\n",
    "\n",
    "        a0, b0 = None, None # Default case is None\n",
    "\n",
    "        if init == \"ones\":\n",
    "            a0 = np.ones(l1)\n",
    "            b0 = np.ones(l2)\n",
    "            if norm:\n",
    "                a0 = a0/l1\n",
    "                b0 = b0/l2\n",
    "\n",
    "        elif init == \"random\":\n",
    "            a0=np.random.rand(l1)\n",
    "            b0=np.random.rand(l2)\n",
    "            if norm:\n",
    "                a0 = a0/a0.sum()\n",
    "                b0 = b0/b0.sum()\n",
    "\n",
    "        elif init == \"rel_fr\":\n",
    "            a0 = np.array([ feat1.count(f1_value)/len(feat1) for f1_value in np.unique(feat1)])\n",
    "            b0 = np.array([ feat2.count(f2_value)/len(feat2) for f2_value in np.unique(feat2)])\n",
    "\n",
    "        start_time = t.time()\n",
    "        result = kernel._result(feat1, feat2, kernel_a=True, kernel_b=True, a0=a0, b0=b0)\n",
    "        end_time = t.time()\n",
    "            \n",
    "        exec_time = end_time - start_time\n",
    "\n",
    "    return result, exec_time"
   ]
  },
  {
   "cell_type": "markdown",
   "metadata": {},
   "source": [
    "## Experiments"
   ]
  },
  {
   "cell_type": "code",
   "execution_count": null,
   "metadata": {},
   "outputs": [],
   "source": [
    "def experiment(dataset_creation_function, kernel):\n",
    "    results = []\n",
    "\n",
    "    for i in range(30):\n",
    "\n",
    "        res_i = {}\n",
    "\n",
    "        war_i, ani_i = dataset_creation_function()\n",
    "\n",
    "        result_i_none, exec_time_none = compute_corr_and_exec_time(war_i, ani_i, kernel)\n",
    "\n",
    "        result_i_ones, exec_time_ones = compute_corr_and_exec_time(war_i, ani_i, kernel, \"ones\")\n",
    "\n",
    "        result_i_random, exec_time_random = compute_corr_and_exec_time(war_i, ani_i, kernel, \"random\")\n",
    "\n",
    "        result_i_rf, exec_time_rf = compute_corr_and_exec_time(war_i, ani_i, kernel, \"rel_fr\")\n",
    "\n",
    "        cramer, exec_time_cramer = compute_corr_and_exec_time(war_i, ani_i)\n",
    "\n",
    "        res_i['correlation_none'] = result_i_none.value\n",
    "        res_i['alpha_none'] = result_i_none.alpha\n",
    "        res_i['beta_none'] = result_i_none.beta\n",
    "        res_i['time_none'] = exec_time_none\n",
    "\n",
    "        res_i['correlation_ones'] = result_i_ones.value\n",
    "        res_i['alpha_ones'] = result_i_ones.alpha\n",
    "        res_i['beta_ones'] = result_i_ones.beta\n",
    "        res_i['time_ones'] = exec_time_ones\n",
    "\n",
    "        res_i['correlation_random'] = result_i_random.value\n",
    "        res_i['alpha_random'] = result_i_random.alpha\n",
    "        res_i['beta_random'] = result_i_random.beta\n",
    "        res_i['time_random'] = exec_time_random\n",
    "\n",
    "        res_i['correlation_rf'] = result_i_rf.value\n",
    "        res_i['alpha_rf'] = result_i_rf.alpha\n",
    "        res_i['beta_rf'] = result_i_rf.beta\n",
    "        res_i['time_rf'] = exec_time_rf\n",
    "\n",
    "        res_i['correlation_cramer'] = cramer\n",
    "        res_i['time_cramer'] = exec_time_cramer\n",
    "\n",
    "        results.append(res_i)\n",
    "\n",
    "    return results"
   ]
  },
  {
   "cell_type": "code",
   "execution_count": null,
   "metadata": {},
   "outputs": [],
   "source": [
    "def experiment_norm(dataset_creation_function, kernel):\n",
    "    results = []\n",
    "\n",
    "    for i in range(30):\n",
    "\n",
    "        res_i = {}\n",
    "\n",
    "        war_i, ani_i = dataset_creation_function()\n",
    "\n",
    "        result_i_ones, exec_time_ones = compute_corr_and_exec_time(war_i, ani_i, kernel, \"ones\")\n",
    "        result_i_ones_not_norm, exec_time_ones_not_norm = compute_corr_and_exec_time(war_i, ani_i, kernel, \"ones\", False)\n",
    "\n",
    "        result_i_random, exec_time_random = compute_corr_and_exec_time(war_i, ani_i, kernel, \"random\")\n",
    "        result_i_random_not_norm, exec_time_random_not_norm = compute_corr_and_exec_time(war_i, ani_i, kernel, \"random\", False)\n",
    "\n",
    "        cramer, exec_time_cramer = compute_corr_and_exec_time(war_i, ani_i)\n",
    "\n",
    "        res_i['correlation_ones'] = result_i_ones.value\n",
    "        res_i['alpha_ones'] = result_i_ones.alpha\n",
    "        res_i['beta_ones'] = result_i_ones.beta\n",
    "        res_i['time_ones'] = exec_time_ones\n",
    "\n",
    "        res_i['correlation_ones_not_norm'] = result_i_ones_not_norm.value\n",
    "        res_i['alpha_ones_not_norm'] = result_i_ones_not_norm.alpha\n",
    "        res_i['beta_ones_not_norm'] = result_i_ones_not_norm.beta\n",
    "        res_i['time_ones_not_norm'] = exec_time_ones_not_norm\n",
    "\n",
    "        res_i['correlation_random'] = result_i_random.value\n",
    "        res_i['alpha_random'] = result_i_random.alpha\n",
    "        res_i['beta_random'] = result_i_random.beta\n",
    "        res_i['time_random'] = exec_time_random\n",
    "\n",
    "        res_i['correlation_random_not_norm'] = result_i_random_not_norm.value\n",
    "        res_i['alpha_random_not_norm'] = result_i_random_not_norm.alpha\n",
    "        res_i['beta_random_not_norm'] = result_i_random_not_norm.beta\n",
    "        res_i['time_random_not_norm'] = exec_time_random_not_norm\n",
    "\n",
    "        res_i['correlation_cramer'] = cramer\n",
    "        res_i['time_cramer'] = exec_time_cramer\n",
    "\n",
    "        results.append(res_i)\n",
    "\n",
    "    return results"
   ]
  },
  {
   "cell_type": "code",
   "execution_count": null,
   "metadata": {},
   "outputs": [],
   "source": [
    "def experiment_delta(dataset_creation_function, kernel):\n",
    "    results = []\n",
    "\n",
    "    for i in range(30):\n",
    "\n",
    "        res_i = {}\n",
    "\n",
    "        war_i, ani_i = dataset_creation_function()\n",
    "\n",
    "        result_i_none, exec_time_none = compute_corr_and_exec_time(war_i, ani_i, kernel)\n",
    "\n",
    "        result_i_rf, exec_time_rf = compute_corr_and_exec_time(war_i, ani_i, kernel, \"rel_fr\")\n",
    "\n",
    "        cramer, exec_time_cramer = compute_corr_and_exec_time(war_i, ani_i)\n",
    "\n",
    "        res_i['correlation_none'] = result_i_none.value\n",
    "        res_i['alpha_none'] = result_i_none.alpha\n",
    "        res_i['beta_none'] = result_i_none.beta\n",
    "        res_i['time_none'] = exec_time_none\n",
    "\n",
    "        res_i['correlation_rf'] = result_i_rf.value\n",
    "        res_i['alpha_rf'] = result_i_rf.alpha\n",
    "        res_i['beta_rf'] = result_i_rf.beta\n",
    "        res_i['time_rf'] = exec_time_rf\n",
    "\n",
    "        res_i['correlation_cramer'] = cramer\n",
    "        res_i['time_cramer'] = exec_time_cramer\n",
    "\n",
    "        results.append(res_i)\n",
    "\n",
    "    return results"
   ]
  },
  {
   "cell_type": "code",
   "execution_count": null,
   "metadata": {},
   "outputs": [],
   "source": [
    "def experiment_general(dataset_creation_function, kernel1, kernel2):\n",
    "    results = []\n",
    "\n",
    "    for i in range(30):\n",
    "\n",
    "        res_i = {}\n",
    "\n",
    "        war_i, ani_i = dataset_creation_function(i)\n",
    "\n",
    "        result_i_none, exec_time_none = compute_corr_and_exec_time(war_i, ani_i, kernel1)\n",
    "\n",
    "        result_i_rf, exec_time_rf = compute_corr_and_exec_time(war_i, ani_i, kernel2, \"rel_fr\")\n",
    "\n",
    "        cramer, exec_time_cramer = compute_corr_and_exec_time(war_i, ani_i)\n",
    "\n",
    "        res_i['correlation_none'] = result_i_none.value\n",
    "        res_i['alpha_none'] = result_i_none.alpha\n",
    "        res_i['beta_none'] = result_i_none.beta\n",
    "        res_i['time_none'] = exec_time_none\n",
    "\n",
    "        res_i['correlation_rf'] = result_i_rf.value\n",
    "        res_i['alpha_rf'] = result_i_rf.alpha\n",
    "        res_i['beta_rf'] = result_i_rf.beta\n",
    "        res_i['time_rf'] = exec_time_rf\n",
    "\n",
    "        res_i['correlation_cramer'] = cramer\n",
    "        res_i['time_cramer'] = exec_time_cramer\n",
    "\n",
    "        results.append(res_i)\n",
    "\n",
    "    return results"
   ]
  },
  {
   "cell_type": "code",
   "execution_count": null,
   "metadata": {},
   "outputs": [],
   "source": [
    "def experiment_hot_poly(dataset_creation_function, kernel1, kernel2):\n",
    "    results = []\n",
    "\n",
    "    for i in range(30):\n",
    "\n",
    "        res_i = {}\n",
    "\n",
    "        war_i, ani_i = dataset_creation_function()\n",
    "\n",
    "        result_i_poly, exec_time_poly = compute_corr_and_exec_time(war_i, ani_i, kernel1)\n",
    "\n",
    "        result_i_rf, exec_time_rf = compute_corr_and_exec_time(war_i, ani_i, kernel2, \"rel_fr\")\n",
    "\n",
    "        cramer, exec_time_cramer = compute_corr_and_exec_time(war_i, ani_i)\n",
    "\n",
    "        res_i['correlation_poly'] = result_i_poly.value\n",
    "        res_i['alpha_poly'] = result_i_poly.alpha\n",
    "        res_i['beta_poly'] = result_i_poly.beta\n",
    "        res_i['time_poly'] = exec_time_poly\n",
    "\n",
    "        res_i['correlation_rf'] = result_i_rf.value\n",
    "        res_i['alpha_rf'] = result_i_rf.alpha\n",
    "        res_i['beta_rf'] = result_i_rf.beta\n",
    "        res_i['time_rf'] = exec_time_rf\n",
    "\n",
    "        res_i['correlation_cramer'] = cramer\n",
    "        res_i['time_cramer'] = exec_time_cramer\n",
    "\n",
    "        results.append(res_i)\n",
    "\n",
    "    return results"
   ]
  },
  {
   "cell_type": "markdown",
   "metadata": {},
   "source": [
    "## Plots"
   ]
  },
  {
   "cell_type": "markdown",
   "metadata": {},
   "source": [
    "### Results"
   ]
  },
  {
   "cell_type": "code",
   "execution_count": null,
   "metadata": {},
   "outputs": [],
   "source": [
    "def plot_results(results, target, x_axis_description):\n",
    "\n",
    "    correlations_none = [res[f'{target}_none'] for res in results]\n",
    "    correlations_ones = [res[f'{target}_ones'] for res in results]\n",
    "    correlations_random = [res[f'{target}_random'] for res in results]\n",
    "    correlations_rf = [res[f'{target}_rf'] for res in results]\n",
    "    cramers = [res[f'{target}_cramer'] for res in results]\n",
    "\n",
    "    plt.plot(correlations_none, marker='o', linestyle='--', color='b', label='One Hot Kernel, a0 and b0 None')\n",
    "    plt.plot(correlations_ones, marker='d', linestyle='--', color='r', label='One Hot Kernel, a0 and b0 ones')\n",
    "    plt.plot(correlations_random, marker='d', linestyle='--', color='g', label='One Hot Kernel, a0 and b0 random')\n",
    "    plt.plot(correlations_rf, marker='o', linestyle='--', color='y', label='One Hot Kernel, a0 and b0 rf')\n",
    "    plt.plot(cramers, marker='o', linestyle='--', color='c', label='Cramer\\'s V')\n",
    "    \n",
    "    plt.title(f'{target} plot')\n",
    "    plt.xlabel(x_axis_description)\n",
    "    plt.ylabel(target)\n",
    "    plt.legend()\n",
    "    plt.grid(True)\n",
    "    plt.show()"
   ]
  },
  {
   "cell_type": "code",
   "execution_count": null,
   "metadata": {},
   "outputs": [],
   "source": [
    "def plot_results_norm(results, target, x_axis_description):\n",
    "\n",
    "    correlations_ones = [res[f'{target}_ones'] for res in results]\n",
    "    correlations_ones_not_norm = [res[f'{target}_ones_not_norm'] for res in results]\n",
    "    correlations_random = [res[f'{target}_random'] for res in results]\n",
    "    correlations_random_not_norm = [res[f'{target}_random_not_norm'] for res in results]\n",
    "    cramers = [res[f'{target}_cramer'] for res in results]\n",
    "\n",
    "    plt.plot(correlations_ones, marker='o', linestyle='--', color='b', label='One Hot Kernel, a0 and b0 ones')\n",
    "    plt.plot(correlations_ones_not_norm, marker='d', linestyle='--', color='r', label='One Hot Kernel, a0 and b0 ones not normalized')\n",
    "    plt.plot(correlations_random, marker='d', linestyle='--', color='g', label='One Hot Kernel, a0 and b0 random')\n",
    "    plt.plot(correlations_random_not_norm, marker='o', linestyle='--', color='y', label='One Hot Kernel, a0 and b0 random not normalized')\n",
    "    plt.plot(cramers, marker='o', linestyle='--', color='c', label='Cramer\\'s V')\n",
    "    \n",
    "    plt.title(f'{target} plot')\n",
    "    plt.xlabel(x_axis_description)\n",
    "    plt.ylabel(target)\n",
    "    plt.legend()\n",
    "    plt.grid(True)\n",
    "    plt.show()"
   ]
  },
  {
   "cell_type": "code",
   "execution_count": null,
   "metadata": {},
   "outputs": [],
   "source": [
    "def plot_results_delta(results, target, x_axis_description):\n",
    "\n",
    "    correlations_none = [res[f'{target}_none'] for res in results]\n",
    "    correlations_rf = [res[f'{target}_rf'] for res in results]\n",
    "    cramers = [res[f'{target}_cramer'] for res in results]\n",
    "\n",
    "    plt.plot(correlations_none, marker='o', linestyle='--', color='b', label='One Hot Kernel, a0 and b0 None with delta')\n",
    "    plt.plot(correlations_rf, marker='o', linestyle='--', color='y', label='One Hot Kernel, a0 and b0 rf with delta')\n",
    "    plt.plot(cramers, marker='o', linestyle='--', color='c', label='Cramer\\'s V')\n",
    "    \n",
    "    plt.title(f'{target} plot')\n",
    "    plt.xlabel(x_axis_description)\n",
    "    plt.ylabel(target)\n",
    "    plt.legend()\n",
    "    plt.grid(True)\n",
    "    plt.show()"
   ]
  },
  {
   "cell_type": "code",
   "execution_count": null,
   "metadata": {},
   "outputs": [],
   "source": [
    "def plot_results_general(results, target, x_axis_description):\n",
    "\n",
    "    correlations_none = [res[f'{target}_none'] for res in results]\n",
    "    correlations_rf = [res[f'{target}_rf'] for res in results]\n",
    "    cramers = [res[f'{target}_cramer'] for res in results]\n",
    "\n",
    "    plt.plot(correlations_none, marker='o', linestyle='--', color='b', label='One Hot Kernel, a0 and b0 None with delta')\n",
    "    plt.plot(correlations_rf, marker='o', linestyle='--', color='y', label='One Hot Kernel, a0 and b0 rf without delta')\n",
    "    plt.plot(cramers, marker='o', linestyle='--', color='c', label='Cramer\\'s V')\n",
    "    \n",
    "    plt.title(f'{target} plot')\n",
    "    plt.xlabel(x_axis_description)\n",
    "    plt.ylabel(target)\n",
    "    plt.legend()\n",
    "    plt.grid(True)\n",
    "    plt.show()"
   ]
  },
  {
   "cell_type": "code",
   "execution_count": null,
   "metadata": {},
   "outputs": [],
   "source": [
    "def plot_results_hot_poly(results, target, x_axis_description):\n",
    "\n",
    "    correlations_poly = [res[f'{target}_poly'] for res in results]\n",
    "    correlations_rf = [res[f'{target}_rf'] for res in results]\n",
    "    cramers = [res[f'{target}_cramer'] for res in results]\n",
    "\n",
    "    plt.plot(correlations_poly, marker='o', linestyle='--', color='b', label='Polynomial Kernel, a0 and b0 None with delta')\n",
    "    plt.plot(correlations_rf, marker='o', linestyle='--', color='y', label='One Hot Kernel, a0 and b0 rf without delta')\n",
    "    plt.plot(cramers, marker='o', linestyle='--', color='c', label='Cramer\\'s V')\n",
    "    \n",
    "    plt.title(f'{target} plot')\n",
    "    plt.xlabel(x_axis_description)\n",
    "    plt.ylabel(target)\n",
    "    plt.legend()\n",
    "    plt.grid(True)\n",
    "    plt.show()"
   ]
  },
  {
   "cell_type": "markdown",
   "metadata": {},
   "source": [
    "### Coefficients"
   ]
  },
  {
   "cell_type": "code",
   "execution_count": null,
   "metadata": {},
   "outputs": [],
   "source": [
    "def plot_coefficients(results, coeff, values, x_axis_description, absolute = True):\n",
    "    \n",
    "    ordered_val = np.unique(values)\n",
    "    l = len(ordered_val)\n",
    "\n",
    "    plt.figure(figsize=(20, 20))\n",
    "\n",
    "    for i in range(l):\n",
    "\n",
    "        c_none = [res[f'{coeff}_none'][i] for res in results]\n",
    "        c_ones = [res[f'{coeff}_ones'][i] for res in results]       \n",
    "        c_random = [res[f'{coeff}_random'][i] for res in results]\n",
    "        c_rf = [res[f'{coeff}_rf'][i] for res in results]\n",
    "\n",
    "        if absolute:\n",
    "            c_none = list(map(abs, c_none))\n",
    "            c_ones = list(map(abs, c_ones))\n",
    "            c_random = list(map(abs, c_random))\n",
    "            c_rf = list(map(abs, c_rf))\n",
    "\n",
    "        plt.subplot(3, 3, i+1)\n",
    "        \n",
    "        plt.plot(c_none, marker='o', linestyle='--', color='b', label=f'{coeff} None')\n",
    "        plt.plot(c_ones, marker='o', linestyle='--', color='r', label=f'{coeff} ones')\n",
    "        plt.plot(c_random, marker='o', linestyle='--', color='g', label=f'{coeff} random')\n",
    "        plt.plot(c_rf, marker='o', linestyle='--', color='y', label=f'{coeff} rf')\n",
    "\n",
    "        plt.xlim(0, 30)\n",
    "        plt.ylim(0, 1)\n",
    "\n",
    "        plt.title(f'{coeff}{str(i+1)} - {ordered_val[i]}')\n",
    "        plt.xlabel(x_axis_description)\n",
    "        plt.ylabel(coeff)\n",
    "        plt.legend()\n",
    "        plt.grid(True)\n",
    "\n",
    "    plt.show()"
   ]
  },
  {
   "cell_type": "code",
   "execution_count": null,
   "metadata": {},
   "outputs": [],
   "source": [
    "def plot_coefficients_norm(results, coeff, values, x_axis_description, absolute = True):\n",
    "    \n",
    "    ordered_val = np.unique(values)\n",
    "    l = len(ordered_val)\n",
    "\n",
    "    plt.figure(figsize=(20, 20))\n",
    "\n",
    "    for i in range(l):\n",
    "\n",
    "        c_ones = [res[f'{coeff}_ones'][i] for res in results]\n",
    "        c_ones_not_norm = [res[f'{coeff}_ones_not_norm'][i] for res in results]       \n",
    "        c_random = [res[f'{coeff}_random'][i] for res in results]\n",
    "        c_random_not_norm = [res[f'{coeff}_random_not_norm'][i] for res in results]\n",
    "\n",
    "        if absolute:\n",
    "            c_ones = list(map(abs, c_ones))\n",
    "            c_ones_not_norm = list(map(abs, c_ones_not_norm))\n",
    "            c_random = list(map(abs, c_random))\n",
    "            c_random_not_norm = list(map(abs, c_random_not_norm))\n",
    "\n",
    "        plt.subplot(3, 3, i+1)\n",
    "        \n",
    "        plt.plot(c_ones, marker='o', linestyle='--', color='b', label=f'{coeff} ones')\n",
    "        plt.plot(c_ones_not_norm, marker='o', linestyle='--', color='r', label=f'{coeff} ones not normalized')\n",
    "        plt.plot(c_random, marker='o', linestyle='--', color='g', label=f'{coeff} random')\n",
    "        plt.plot(c_random_not_norm, marker='o', linestyle='--', color='y', label=f'{coeff} random not normalized')\n",
    "\n",
    "        plt.xlim(0, 30)\n",
    "        plt.ylim(0, 1)\n",
    "\n",
    "        plt.title(f'{coeff}{str(i+1)} - {ordered_val[i]}')\n",
    "        plt.xlabel(x_axis_description)\n",
    "        plt.ylabel(coeff)\n",
    "        plt.legend()\n",
    "        plt.grid(True)\n",
    "\n",
    "    plt.show()"
   ]
  },
  {
   "cell_type": "code",
   "execution_count": null,
   "metadata": {},
   "outputs": [],
   "source": [
    "def plot_coefficients_delta(results, coeff, values, x_axis_description, absolute = True, zoom = None):\n",
    "    \n",
    "    ordered_val = np.unique(values)\n",
    "    l = len(ordered_val)\n",
    "\n",
    "    plt.figure(figsize=(20, 20))\n",
    "\n",
    "    for i in range(l):\n",
    "\n",
    "        c_none = [res[f'{coeff}_none'][i] for res in results]      \n",
    "        c_rf = [res[f'{coeff}_rf'][i] for res in results]\n",
    "\n",
    "        if absolute:\n",
    "            c_none = list(map(abs, c_none))\n",
    "            c_rf = list(map(abs, c_rf))\n",
    "\n",
    "        plt.subplot(3, 3, i+1)\n",
    "        \n",
    "        plt.plot(c_none, marker='o', linestyle='--', color='b', label=f'{coeff} None with delta')\n",
    "        plt.plot(c_rf, marker='d', linestyle='--', color='y', label=f'{coeff} rf with delta')\n",
    "\n",
    "        plt.xlim(0, 30)\n",
    "        if zoom != None:\n",
    "            plt.ylim(0, zoom)\n",
    "        else:\n",
    "            plt.ylim(0, 1)\n",
    "\n",
    "        plt.title(f'{coeff}{str(i+1)} - {ordered_val[i]}')\n",
    "        plt.xlabel(x_axis_description)\n",
    "        plt.ylabel(coeff)\n",
    "        plt.legend()\n",
    "        plt.grid(True)\n",
    "\n",
    "    plt.show()"
   ]
  },
  {
   "cell_type": "code",
   "execution_count": null,
   "metadata": {},
   "outputs": [],
   "source": [
    "def plot_coefficients_general(results, coeff, values, x_axis_description, absolute = True, zoom = None):\n",
    "    \n",
    "    ordered_val = np.unique(values)\n",
    "    l = len(ordered_val)\n",
    "\n",
    "    plt.figure(figsize=(20, 20))\n",
    "\n",
    "    for i in range(l):\n",
    "\n",
    "        c_none = [res[f'{coeff}_none'][i] for res in results]      \n",
    "        c_rf = [res[f'{coeff}_rf'][i] for res in results]\n",
    "\n",
    "        if absolute:\n",
    "            c_none = list(map(abs, c_none))\n",
    "            c_rf = list(map(abs, c_rf))\n",
    "\n",
    "        plt.subplot(3, 3, i+1)\n",
    "        \n",
    "        plt.plot(c_none, marker='o', linestyle='--', color='b', label=f'{coeff} None with delta')\n",
    "        plt.plot(c_rf, marker='d', linestyle='--', color='y', label=f'{coeff} rf without delta')\n",
    "\n",
    "        plt.xlim(0, 30)\n",
    "        if zoom != None:\n",
    "            plt.ylim(0, zoom)\n",
    "        else:\n",
    "            plt.ylim(0, 1)\n",
    "\n",
    "        plt.title(f'{coeff}{str(i+1)} - {ordered_val[i]}')\n",
    "        plt.xlabel(x_axis_description)\n",
    "        plt.ylabel(coeff)\n",
    "        plt.legend()\n",
    "        plt.grid(True)\n",
    "\n",
    "    plt.show()"
   ]
  },
  {
   "cell_type": "code",
   "execution_count": null,
   "metadata": {},
   "outputs": [],
   "source": [
    "def plot_coefficients_hot_poly(results, coeff, values, x_axis_description, absolute = True, zoom = None):\n",
    "    \n",
    "    ordered_val = np.unique(values)\n",
    "    l = len(ordered_val)\n",
    "\n",
    "    plt.figure(figsize=(20, 20))\n",
    "\n",
    "    for i in range(l):\n",
    "\n",
    "        c_poly = [res[f'{coeff}_poly'][i] for res in results]      \n",
    "        c_rf = [res[f'{coeff}_rf'][i] for res in results]\n",
    "\n",
    "        if absolute:\n",
    "            c_poly = list(map(abs, c_poly))\n",
    "            c_rf = list(map(abs, c_rf))\n",
    "\n",
    "        plt.subplot(3, 3, i+1)\n",
    "        \n",
    "        plt.plot(c_poly, marker='o', linestyle='--', color='b', label=f'{coeff} polynomial, None with delta')\n",
    "        plt.plot(c_rf, marker='d', linestyle='--', color='y', label=f'{coeff} one-hot, rf without delta')\n",
    "\n",
    "        plt.xlim(0, 30)\n",
    "        if zoom != None:\n",
    "            plt.ylim(0, zoom)\n",
    "        else:\n",
    "            plt.ylim(0, 1)\n",
    "\n",
    "        plt.title(f'{coeff}{str(i+1)} - {ordered_val[i]}')\n",
    "        plt.xlabel(x_axis_description)\n",
    "        plt.ylabel(coeff)\n",
    "        plt.legend()\n",
    "        plt.grid(True)\n",
    "\n",
    "    plt.show()"
   ]
  },
  {
   "cell_type": "markdown",
   "metadata": {},
   "source": [
    "# Utilities for Real Data"
   ]
  },
  {
   "cell_type": "code",
   "execution_count": null,
   "metadata": {},
   "outputs": [],
   "source": [
    "def plot_hist(dataset, feature, relative_feature = None, relative_value = None):\n",
    "\n",
    "    title = f'{feature} distribution'\n",
    "\n",
    "    if relative_feature!=None:\n",
    "        \n",
    "        title = title + f' relative to {relative_feature} equal to {relative_value}'\n",
    "        dataset_rel = dataset[ dataset[relative_feature] == relative_value ]\n",
    "\n",
    "        freq_total = dataset[feature].value_counts(normalize=True).reset_index()\n",
    "        freq_total.columns = [feature, 'relative_freq']\n",
    "        freq_total['dataset'] = 'Full dataset'\n",
    "\n",
    "        freq_relative = dataset_rel[feature].value_counts(normalize=True).reset_index()\n",
    "        freq_relative.columns = [feature, 'relative_freq']\n",
    "        freq_relative['dataset'] = f'Relative to {relative_feature} = {relative_value}'\n",
    "\n",
    "        # Combine the frequencies\n",
    "        combined_freq = pd.concat([freq_total, freq_relative])\n",
    "\n",
    "        # Plot using seaborn\n",
    "        plt.figure(figsize=(20,10))\n",
    "        sns.barplot(data=combined_freq, x=feature, y='relative_freq', hue='dataset')\n",
    "        plt.title(f'Relative Frequencies of {feature}')\n",
    "        plt.ylabel('Relative Frequency')\n",
    "        plt.xlabel(feature)\n",
    "        plt.show()\n",
    "        \n",
    "    else:\n",
    "        plt.figure(figsize=(20,10))\n",
    "\n",
    "        sns.countplot(data=dataset, x=feature, order=np.unique(dataset[feature]), stat=\"proportion\")\n",
    "        plt.xlabel(feature)\n",
    "        plt.ylabel('Count')\n",
    "        plt.title(title)\n",
    "\n",
    "        plt.show()"
   ]
  },
  {
   "cell_type": "code",
   "execution_count": null,
   "metadata": {},
   "outputs": [],
   "source": [
    "def compute_correlation(dataset, feat1, feat2, kernel):\n",
    "    \n",
    "    sorted_feat1 = np.unique(dataset[feat1])\n",
    "    sorted_feat2 = np.unique(dataset[feat2])\n",
    "\n",
    "\n",
    "    feat1_rf_a0 = np.array([ len(dataset[ dataset[feat1] == value ])/len(dataset) for value in sorted_feat1])\n",
    "    feat2_rf_b0 = np.array([ len(dataset[ dataset[feat2] == value ])/len(dataset) for value in sorted_feat2])\n",
    "   \n",
    "    return kernel._result(dataset[feat1], dataset[feat2], kernel_a=True, kernel_b=True, a0=feat1_rf_a0, b0=feat2_rf_b0)"
   ]
  },
  {
   "cell_type": "code",
   "execution_count": null,
   "metadata": {},
   "outputs": [],
   "source": [
    "def my_sort(couple):\n",
    "    return abs(couple[1]) \n",
    "\n",
    "def print_coefficients(values, coefficients):\n",
    "\n",
    "    max_len = max(len(value) for value in values)\n",
    "\n",
    "    to_print = []\n",
    "    \n",
    "    for value, coefficient in zip(values, coefficients):\n",
    "        to_print.append((value, abs(coefficient)))\n",
    "\n",
    "    to_print.sort(key=my_sort, reverse=True)\n",
    "\n",
    "    for couple in to_print:\n",
    "        print(\"{:<{width}} : {}\".format(couple[0], couple[1], width=max_len))\n",
    "\n",
    "    \n",
    "\n",
    "def print_coefficients_alphabetical(values, coefficients):\n",
    "\n",
    "    max_len = max(len(value) for value in values)\n",
    "\n",
    "    for value, coefficient in zip(values, coefficients):\n",
    "        print(\"{:<{width}} : {}\".format(value, coefficient, width=max_len))"
   ]
  },
  {
   "cell_type": "markdown",
   "metadata": {},
   "source": [
    "## What happens when a0 and b0 are at None?"
   ]
  },
  {
   "cell_type": "code",
   "execution_count": null,
   "metadata": {},
   "outputs": [
    {
     "name": "stdout",
     "output_type": "stream",
     "text": [
      "[[0 0 0 1 0 0 0]\n",
      " [0 1 0 0 0 0 0]\n",
      " [0 0 1 0 1 0 1]\n",
      " [1 0 0 0 0 1 0]]\n"
     ]
    }
   ],
   "source": [
    "x = np.array([[0, 0, 0, 1], [0, 1, 0, 0], [0, 0, 1, 0], [1, 0, 0, 0], [0, 0, 1, 0], [0, 0, 0, 1], [0, 0, 1, 0]]).transpose()\n",
    "print(x)"
   ]
  },
  {
   "cell_type": "markdown",
   "metadata": {},
   "source": [
    "Nella result:"
   ]
  },
  {
   "cell_type": "code",
   "execution_count": null,
   "metadata": {},
   "outputs": [
    {
     "name": "stdout",
     "output_type": "stream",
     "text": [
      "[[0 0 0 1]\n",
      " [0 1 0 0]\n",
      " [0 0 1 0]\n",
      " [1 0 0 0]\n",
      " [0 0 1 0]\n",
      " [0 0 0 1]\n",
      " [0 0 1 0]]\n"
     ]
    }
   ],
   "source": [
    "x = np.stack(x, axis=1)\n",
    "print(x)"
   ]
  },
  {
   "cell_type": "markdown",
   "metadata": {},
   "source": [
    "### Is the last column discarded? (_indices function)"
   ]
  },
  {
   "cell_type": "code",
   "execution_count": null,
   "metadata": {},
   "outputs": [],
   "source": [
    "my_delta_independent = 0.2"
   ]
  },
  {
   "cell_type": "code",
   "execution_count": null,
   "metadata": {},
   "outputs": [],
   "source": [
    "b = np.ones(shape=(len(x), 1))            \n",
    "x = np.concatenate((b, x), axis=1)        \n",
    "# compute the QR factorization\n",
    "r = qr(x, mode='r')[0]\n",
    "# build the diagonal of the R matrix (excluding the bias column)\n",
    "r = np.abs(np.diag(r)[1:])\n",
    "# independent columns are those having a value higher than the tolerance\n",
    "mask = r >= my_delta_independent"
   ]
  },
  {
   "cell_type": "code",
   "execution_count": null,
   "metadata": {},
   "outputs": [
    {
     "name": "stdout",
     "output_type": "stream",
     "text": [
      "[ True  True  True False]\n"
     ]
    }
   ],
   "source": [
    "print(mask)"
   ]
  },
  {
   "cell_type": "code",
   "execution_count": null,
   "metadata": {},
   "outputs": [
    {
     "name": "stdout",
     "output_type": "stream",
     "text": [
      "[[ 0.         -0.14285714 -0.14285714 -0.42857143  0.71428571]\n",
      " [ 0.         -0.14285714  0.85714286 -0.42857143 -0.28571429]\n",
      " [ 0.         -0.14285714 -0.14285714  0.57142857 -0.28571429]\n",
      " [ 0.          0.85714286 -0.14285714 -0.42857143 -0.28571429]\n",
      " [ 0.         -0.14285714 -0.14285714  0.57142857 -0.28571429]\n",
      " [ 0.         -0.14285714 -0.14285714 -0.42857143  0.71428571]\n",
      " [ 0.         -0.14285714 -0.14285714  0.57142857 -0.28571429]]\n"
     ]
    }
   ],
   "source": [
    "x = x - np.mean(x, axis=0)\n",
    "print(x)"
   ]
  },
  {
   "cell_type": "code",
   "execution_count": null,
   "metadata": {},
   "outputs": [
    {
     "name": "stdout",
     "output_type": "stream",
     "text": [
      "<class 'numpy.ndarray'>\n"
     ]
    }
   ],
   "source": [
    "print(type(x))"
   ]
  },
  {
   "cell_type": "markdown",
   "metadata": {},
   "source": [
    "### Calcolo di a0"
   ]
  },
  {
   "cell_type": "code",
   "execution_count": null,
   "metadata": {},
   "outputs": [],
   "source": [
    "my_esp = 1e-9"
   ]
  },
  {
   "cell_type": "code",
   "execution_count": null,
   "metadata": {},
   "outputs": [
    {
     "name": "stdout",
     "output_type": "stream",
     "text": [
      "[1.11022302e-16 1.66533454e-16 0.00000000e+00 1.66533454e-16\n",
      " 0.00000000e+00 1.11022302e-16 0.00000000e+00]\n"
     ]
    }
   ],
   "source": [
    "somma = x.sum(axis=1)\n",
    "print(somma)"
   ]
  },
  {
   "cell_type": "code",
   "execution_count": null,
   "metadata": {},
   "outputs": [
    {
     "name": "stdout",
     "output_type": "stream",
     "text": [
      "5.15677568782868e-33\n"
     ]
    }
   ],
   "source": [
    "varianza = somma.var(ddof=0)\n",
    "print(varianza)"
   ]
  },
  {
   "cell_type": "code",
   "execution_count": null,
   "metadata": {},
   "outputs": [
    {
     "name": "stdout",
     "output_type": "stream",
     "text": [
      "3.1622776601683795e-05\n"
     ]
    }
   ],
   "source": [
    "denominator = np.sqrt(varianza + my_esp) \n",
    "print(denominator)"
   ]
  },
  {
   "cell_type": "code",
   "execution_count": null,
   "metadata": {},
   "outputs": [
    {
     "name": "stdout",
     "output_type": "stream",
     "text": [
      "[31622.77660168 31622.77660168 31622.77660168 31622.77660168]\n"
     ]
    }
   ],
   "source": [
    "my_a0 = np.ones(4) / denominator\n",
    "print(my_a0)"
   ]
  }
 ],
 "metadata": {
  "language_info": {
   "name": "python"
  }
 },
 "nbformat": 4,
 "nbformat_minor": 2
}
