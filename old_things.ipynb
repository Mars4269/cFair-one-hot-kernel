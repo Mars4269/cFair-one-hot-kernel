{
 "cells": [
  {
   "cell_type": "markdown",
   "metadata": {},
   "source": [
    "# Toy Class"
   ]
  },
  {
   "cell_type": "code",
   "execution_count": null,
   "metadata": {},
   "outputs": [],
   "source": [
    "toy_one_hot_hgr = CategoricalHGR(\n",
    "    backend=backend,\n",
    "    method='trust-constr',\n",
    "    maxiter=1000,\n",
    "    eps=1e-9,\n",
    "    tol=1e-9,\n",
    "    use_lstsq=True,\n",
    "    delta_independent=None\n",
    ")"
   ]
  },
  {
   "cell_type": "markdown",
   "metadata": {},
   "source": [
    "## First Example - corr = 0"
   ]
  },
  {
   "cell_type": "code",
   "execution_count": null,
   "metadata": {},
   "outputs": [],
   "source": [
    "# Example categorical data\n",
    "a = np.array(['cat', 'dog', 'cat', 'bird'])\n",
    "b = np.array(['red', 'red', 'blue', 'green'])"
   ]
  },
  {
   "cell_type": "code",
   "execution_count": null,
   "metadata": {},
   "outputs": [],
   "source": [
    "\n",
    "ohe_a = one_hot_encode(a)\n",
    "ohe_b = one_hot_encode(b)"
   ]
  },
  {
   "cell_type": "code",
   "execution_count": null,
   "metadata": {},
   "outputs": [
    {
     "name": "stdout",
     "output_type": "stream",
     "text": [
      "[[0 0 0 1]\n",
      " [1 0 1 0]\n",
      " [0 1 0 0]]\n"
     ]
    }
   ],
   "source": [
    "print(ohe_a)"
   ]
  },
  {
   "cell_type": "code",
   "execution_count": null,
   "metadata": {},
   "outputs": [
    {
     "name": "stdout",
     "output_type": "stream",
     "text": [
      "[[0 0 1 0]\n",
      " [0 0 0 1]\n",
      " [1 1 0 0]]\n"
     ]
    }
   ],
   "source": [
    "print(ohe_b)"
   ]
  },
  {
   "cell_type": "code",
   "execution_count": null,
   "metadata": {},
   "outputs": [
    {
     "name": "stdout",
     "output_type": "stream",
     "text": [
      "None\n"
     ]
    }
   ],
   "source": [
    "result = toy_one_hot_hgr._compute(a, b)\n",
    "print(result)"
   ]
  },
  {
   "cell_type": "code",
   "execution_count": null,
   "metadata": {},
   "outputs": [
    {
     "name": "stdout",
     "output_type": "stream",
     "text": [
      "0.9449111800932964 [0.19385645 0.54457232 0.19385645 0.30321213] [0.22038587 0.22038587 0.24541706 0.3138112 ]\n"
     ]
    }
   ],
   "source": [
    "corr, alpha, beta = toy_one_hot_hgr._indicator(ohe_a, ohe_b, None, None)\n",
    "print(corr, alpha, beta)"
   ]
  },
  {
   "cell_type": "markdown",
   "metadata": {},
   "source": [
    "## Second Example - corr = 0"
   ]
  },
  {
   "cell_type": "code",
   "execution_count": null,
   "metadata": {},
   "outputs": [],
   "source": [
    "c = np.array(['cat', 'dog', 'cat', 'bird'])\n",
    "d = np.array(['cat', 'dog', 'cat', 'bird'])"
   ]
  },
  {
   "cell_type": "code",
   "execution_count": null,
   "metadata": {},
   "outputs": [],
   "source": [
    "ohe_c = one_hot_encode(c)\n",
    "ohe_d = one_hot_encode(d)"
   ]
  },
  {
   "cell_type": "code",
   "execution_count": null,
   "metadata": {},
   "outputs": [
    {
     "name": "stdout",
     "output_type": "stream",
     "text": [
      "[[0 0 0 1]\n",
      " [1 0 1 0]\n",
      " [0 1 0 0]]\n"
     ]
    }
   ],
   "source": [
    "print(ohe_c)"
   ]
  },
  {
   "cell_type": "code",
   "execution_count": null,
   "metadata": {},
   "outputs": [
    {
     "name": "stdout",
     "output_type": "stream",
     "text": [
      "[[0 0 0 1]\n",
      " [1 0 1 0]\n",
      " [0 1 0 0]]\n"
     ]
    }
   ],
   "source": [
    "print(ohe_d)"
   ]
  },
  {
   "cell_type": "code",
   "execution_count": null,
   "metadata": {},
   "outputs": [
    {
     "name": "stdout",
     "output_type": "stream",
     "text": [
      "None\n"
     ]
    }
   ],
   "source": [
    "result = toy_one_hot_hgr._compute(c, d)\n",
    "print(result)"
   ]
  },
  {
   "cell_type": "code",
   "execution_count": null,
   "metadata": {},
   "outputs": [
    {
     "name": "stdout",
     "output_type": "stream",
     "text": [
      "0.999999998875 [0.26516504 0.26516504 0.26516504 0.26516504] [0.25 0.25 0.25 0.25]\n"
     ]
    }
   ],
   "source": [
    "corr, alpha, beta = toy_one_hot_hgr._indicator(ohe_c, ohe_d, None, None)\n",
    "print(corr, alpha, beta)"
   ]
  },
  {
   "cell_type": "markdown",
   "metadata": {},
   "source": [
    "## Joke Experiment"
   ]
  },
  {
   "cell_type": "code",
   "execution_count": null,
   "metadata": {},
   "outputs": [],
   "source": [
    "a = np.array([1, 2, 3, 4, 5])\n",
    "b = np.array([5, 4, 3, 2, 1])\n",
    "\n",
    "result_p = polynomial_kernel._compute(a, b)"
   ]
  },
  {
   "cell_type": "code",
   "execution_count": null,
   "metadata": {},
   "outputs": [
    {
     "name": "stdout",
     "output_type": "stream",
     "text": [
      "0.9999999989999997\n"
     ]
    }
   ],
   "source": [
    "print(result_p.value)"
   ]
  },
  {
   "cell_type": "code",
   "execution_count": null,
   "metadata": {},
   "outputs": [
    {
     "name": "stdout",
     "output_type": "stream",
     "text": [
      "[-0.98971955 -0.01028045]\n"
     ]
    }
   ],
   "source": [
    "print(result_p.alpha)"
   ]
  },
  {
   "cell_type": "code",
   "execution_count": null,
   "metadata": {},
   "outputs": [
    {
     "name": "stdout",
     "output_type": "stream",
     "text": [
      "[ 9.90848562e-01 -9.15143279e-03 -5.25302806e-09]\n"
     ]
    }
   ],
   "source": [
    "print(result_p.beta)"
   ]
  },
  {
   "cell_type": "markdown",
   "metadata": {},
   "source": [
    "## 50000, all random"
   ]
  },
  {
   "cell_type": "code",
   "execution_count": null,
   "metadata": {},
   "outputs": [],
   "source": [
    "num1 = []\n",
    "num2 = []\n",
    "\n",
    "for i in range(50000):\n",
    "    num1.append(rn.randint(0,9))\n",
    "    num2.append(rn.randint(0,9))"
   ]
  },
  {
   "cell_type": "code",
   "execution_count": null,
   "metadata": {},
   "outputs": [],
   "source": [
    "result_50000_pol = polynomial_kernel._compute(num1, num2)"
   ]
  },
  {
   "cell_type": "code",
   "execution_count": null,
   "metadata": {},
   "outputs": [
    {
     "name": "stdout",
     "output_type": "stream",
     "text": [
      "0.002260964800911911\n"
     ]
    }
   ],
   "source": [
    "print(result_50000_pol.value)"
   ]
  },
  {
   "cell_type": "code",
   "execution_count": null,
   "metadata": {},
   "outputs": [
    {
     "name": "stdout",
     "output_type": "stream",
     "text": [
      "[ 0.95591086 -0.04408914]\n"
     ]
    }
   ],
   "source": [
    "print(result_50000_pol.alpha)"
   ]
  },
  {
   "cell_type": "code",
   "execution_count": null,
   "metadata": {},
   "outputs": [
    {
     "name": "stdout",
     "output_type": "stream",
     "text": [
      "[ 0.79060664 -0.14080855  0.0685848 ]\n"
     ]
    }
   ],
   "source": [
    "print(result_50000_pol.beta)"
   ]
  },
  {
   "cell_type": "markdown",
   "metadata": {},
   "source": [
    "## Experiment 1 (numbers)"
   ]
  },
  {
   "cell_type": "code",
   "execution_count": null,
   "metadata": {},
   "outputs": [],
   "source": [
    "a = np.array([1, 2, 3, 4, 5])\n",
    "b = np.array([5, 4, 2, 2, 1])\n",
    "\n",
    "# Compute the HGR indicator\n",
    "result1 = my_kernel_one_hot._compute(a, b)"
   ]
  },
  {
   "cell_type": "code",
   "execution_count": null,
   "metadata": {},
   "outputs": [
    {
     "name": "stdout",
     "output_type": "stream",
     "text": [
      "0.9999999990000001\n"
     ]
    }
   ],
   "source": [
    "print(result1.value)"
   ]
  },
  {
   "cell_type": "code",
   "execution_count": null,
   "metadata": {},
   "outputs": [
    {
     "name": "stdout",
     "output_type": "stream",
     "text": [
      "[0.20000184 0.20000837 0.20000051 0.20000051 0.19998878]\n"
     ]
    }
   ],
   "source": [
    "print(result1.alpha)"
   ]
  },
  {
   "cell_type": "code",
   "execution_count": null,
   "metadata": {},
   "outputs": [
    {
     "name": "stdout",
     "output_type": "stream",
     "text": [
      "[0.24998613 0.25000079 0.25001062 0.25000246]\n"
     ]
    }
   ],
   "source": [
    "print(result1.beta)"
   ]
  },
  {
   "cell_type": "markdown",
   "metadata": {},
   "source": [
    "## Experiment 2 (categorical)"
   ]
  },
  {
   "cell_type": "code",
   "execution_count": null,
   "metadata": {},
   "outputs": [],
   "source": [
    "a2 = np.array(['cat', 'dog', 'cat', 'dog'])\n",
    "b2 = np.array(['sus', 'sis', 'sus', 'ses'])\n",
    "\n",
    "result2 = my_kernel_one_hot._compute(a2, b2)"
   ]
  },
  {
   "cell_type": "code",
   "execution_count": null,
   "metadata": {},
   "outputs": [
    {
     "name": "stdout",
     "output_type": "stream",
     "text": [
      "0.9999999989999999\n"
     ]
    }
   ],
   "source": [
    "print(result2.value)"
   ]
  },
  {
   "cell_type": "code",
   "execution_count": null,
   "metadata": {},
   "outputs": [
    {
     "name": "stdout",
     "output_type": "stream",
     "text": [
      "['cat' 'dog' 'cat' 'dog']\n"
     ]
    }
   ],
   "source": [
    "print(result2.a)"
   ]
  },
  {
   "cell_type": "code",
   "execution_count": null,
   "metadata": {},
   "outputs": [
    {
     "name": "stdout",
     "output_type": "stream",
     "text": [
      "['sus' 'sis' 'sus' 'ses']\n"
     ]
    }
   ],
   "source": [
    "print(result2.b)"
   ]
  },
  {
   "cell_type": "code",
   "execution_count": null,
   "metadata": {},
   "outputs": [
    {
     "name": "stdout",
     "output_type": "stream",
     "text": [
      "[0.49998419 0.50001581]\n"
     ]
    }
   ],
   "source": [
    "print(result2.alpha)"
   ]
  },
  {
   "cell_type": "code",
   "execution_count": null,
   "metadata": {},
   "outputs": [
    {
     "name": "stdout",
     "output_type": "stream",
     "text": [
      "[0.33334036 0.33334036 0.33331928]\n"
     ]
    }
   ],
   "source": [
    "print(result2.beta)"
   ]
  },
  {
   "cell_type": "markdown",
   "metadata": {},
   "source": [
    "## DEBUG CONCATENATION"
   ]
  },
  {
   "cell_type": "code",
   "execution_count": null,
   "metadata": {},
   "outputs": [
    {
     "name": "stdout",
     "output_type": "stream",
     "text": [
      "[[ 0.5 -0.5  0.5  0.5]\n",
      " [-0.5  0.5 -0.5 -0.5]]\n"
     ]
    }
   ],
   "source": [
    "f = [ [1, 0],[0, 1],[1, 0],[1, 0] ]\n",
    "\n",
    "f = np.stack(f, axis=1)\n",
    "f = f - np.mean(f, axis=0)\n",
    "\n",
    "print(f)\n",
    "\n",
    "# g = np.stack(g, axis=1)\n",
    "# g = g - np.mean(g, axis=0)\n",
    "\n",
    "# print(g)"
   ]
  }
 ],
 "metadata": {
  "language_info": {
   "name": "python"
  }
 },
 "nbformat": 4,
 "nbformat_minor": 2
}
